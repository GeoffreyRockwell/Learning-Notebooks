{
 "cells": [
  {
   "cell_type": "markdown",
   "metadata": {},
   "source": [
    "# Parsing file titles\n",
    "\n",
    "This notebook shows how you can parse file titles. The example uses a subset of the SID Today Newsletters shared by the intercept."
   ]
  },
  {
   "cell_type": "markdown",
   "metadata": {},
   "source": [
    "First we see what folders we have."
   ]
  },
  {
   "cell_type": "code",
   "execution_count": 17,
   "metadata": {
    "collapsed": false
   },
   "outputs": [
    {
     "name": "stdout",
     "output_type": "stream",
     "text": [
      "\u001b[34m2003-04-SIDToday-Text/\u001b[m\u001b[m/\r\n"
     ]
    }
   ],
   "source": [
    "ls -d */"
   ]
  },
  {
   "cell_type": "markdown",
   "metadata": {},
   "source": [
    "Then we define the directory we want to operate on."
   ]
  },
  {
   "cell_type": "code",
   "execution_count": 18,
   "metadata": {
    "collapsed": true
   },
   "outputs": [],
   "source": [
    "directory = \"2003-04-SIDToday-Text\""
   ]
  },
  {
   "cell_type": "markdown",
   "metadata": {},
   "source": [
    "Here we can check the file names."
   ]
  },
  {
   "cell_type": "code",
   "execution_count": 70,
   "metadata": {
    "collapsed": false
   },
   "outputs": [
    {
     "data": {
      "text/plain": [
       "['2003-04-SIDToday-Text/2003-04-01_SIDToday_-_Deployed_SIGINT_Analysts--An_Urgent_Need.pdf.txt',\n",
       " '2003-04-SIDToday-Text/2003-04-01_SIDToday_-_Practical_Jokes_and_April_Fools.pdf.txt',\n",
       " '2003-04-SIDToday-Text/2003-04-02_SIDToday_-_Last_QUICKMASK_Training_Today.pdf.txt',\n",
       " '2003-04-SIDToday-Text/2003-04-02_SIDToday_-_New_Hire_Whats_On_Your_Mind_Session_--_Today.pdf.txt',\n",
       " '2003-04-SIDToday-Text/2003-04-02_SIDToday_-_SIGINT_Strategy__The_Importance_of_Common_Goals.pdf.txt']"
      ]
     },
     "execution_count": 70,
     "metadata": {},
     "output_type": "execute_result"
    }
   ],
   "source": [
    "import glob\n",
    "glob.glob(directory + \"/*.txt\")[:5]"
   ]
  },
  {
   "cell_type": "markdown",
   "metadata": {},
   "source": [
    "## Create a list of file names\n",
    "\n",
    "Now we create a list of file names."
   ]
  },
  {
   "cell_type": "code",
   "execution_count": 26,
   "metadata": {
    "collapsed": false
   },
   "outputs": [
    {
     "data": {
      "text/plain": [
       "['2003-04-SIDToday-Text/2003-04-01_SIDToday_-_Deployed_SIGINT_Analysts--An_Urgent_Need.pdf.txt',\n",
       " '2003-04-SIDToday-Text/2003-04-01_SIDToday_-_Practical_Jokes_and_April_Fools.pdf.txt',\n",
       " '2003-04-SIDToday-Text/2003-04-02_SIDToday_-_Last_QUICKMASK_Training_Today.pdf.txt',\n",
       " '2003-04-SIDToday-Text/2003-04-02_SIDToday_-_New_Hire_Whats_On_Your_Mind_Session_--_Today.pdf.txt',\n",
       " '2003-04-SIDToday-Text/2003-04-02_SIDToday_-_SIGINT_Strategy__The_Importance_of_Common_Goals.pdf.txt']"
      ]
     },
     "execution_count": 26,
     "metadata": {},
     "output_type": "execute_result"
    }
   ],
   "source": [
    "fileList = []\n",
    "for file in glob.glob(directory + \"/*.txt\"):\n",
    "    fileList.append(file)\n",
    "    \n",
    "fileList[:5]"
   ]
  },
  {
   "cell_type": "markdown",
   "metadata": {},
   "source": [
    "## Strip information\n",
    "\n",
    "Now we strip the folder name from the start and the \".pdf.txt\" extension from the end."
   ]
  },
  {
   "cell_type": "code",
   "execution_count": 39,
   "metadata": {
    "collapsed": false
   },
   "outputs": [
    {
     "data": {
      "text/plain": [
       "['2003-04-01_SIDToday_-_Deployed_SIGINT_Analysts--An_Urgent_Nee',\n",
       " '2003-04-01_SIDToday_-_Practical_Jokes_and_April_Fools',\n",
       " '2003-04-02_SIDToday_-_Last_QUICKMASK_Training_Today',\n",
       " '2003-04-02_SIDToday_-_New_Hire_Whats_On_Your_Mind_Session_--_Today',\n",
       " '2003-04-02_SIDToday_-_SIGINT_Strategy__The_Importance_of_Common_Goals']"
      ]
     },
     "execution_count": 39,
     "metadata": {},
     "output_type": "execute_result"
    }
   ],
   "source": [
    "justDateNName = []\n",
    "for fileName in fileList:\n",
    "    partsOfFilename = fileName.split(\"/\") # splits on the forward slash\n",
    "    dateNtitle = partsOfFilename[1].strip(\".pdf.txt\") # takes everything after the / and strips the end\n",
    "    justDateNName.append(dateNtitle)\n",
    "    \n",
    "justDateNName[:5]"
   ]
  },
  {
   "cell_type": "markdown",
   "metadata": {},
   "source": [
    "## Spilt the name and save parts\n",
    "\n",
    "Now we split the rest on \"_\" and use the first part and final part. We get a list of lists."
   ]
  },
  {
   "cell_type": "code",
   "execution_count": 54,
   "metadata": {
    "collapsed": false
   },
   "outputs": [
    {
     "data": {
      "text/plain": [
       "[['2003-04-01', 'Deployed SIGINT Analysts--An Urgent Nee'],\n",
       " ['2003-04-01', 'Practical Jokes and April Fools'],\n",
       " ['2003-04-02', 'Last QUICKMASK Training Today'],\n",
       " ['2003-04-02', 'New Hire Whats On Your Mind Session -- Today']]"
      ]
     },
     "execution_count": 54,
     "metadata": {},
     "output_type": "execute_result"
    }
   ],
   "source": [
    "listOfDtsNNames = []\n",
    "for string in justDateNName:\n",
    "    partsOfString = string.split(\"_\")\n",
    "    row = [partsOfString[0],\" \".join(partsOfString[3:])] # This adds the first part and then joins all the other words\n",
    "    listOfDtsNNames.append(row)\n",
    "    \n",
    "listOfDtsNNames[:4]"
   ]
  },
  {
   "cell_type": "markdown",
   "metadata": {},
   "source": [
    "## Write out to CSV\n",
    "\n",
    "And finally we write it out to a CSV."
   ]
  },
  {
   "cell_type": "code",
   "execution_count": 72,
   "metadata": {
    "collapsed": false
   },
   "outputs": [
    {
     "name": "stdout",
     "output_type": "stream",
     "text": [
      "Done\n"
     ]
    }
   ],
   "source": [
    "import csv\n",
    "\n",
    "with open(\"metadata.csv\", 'w', newline='') as csvfile:\n",
    "    resultsWriter = csv.writer(csvfile, delimiter=',',)\n",
    "    for item in listOfDtsNNames:\n",
    "        resultsWriter.writerow(item)\n",
    "        \n",
    "print(\"Done\")"
   ]
  },
  {
   "cell_type": "code",
   "execution_count": null,
   "metadata": {
    "collapsed": true
   },
   "outputs": [],
   "source": []
  }
 ],
 "metadata": {
  "kernelspec": {
   "display_name": "Python 3",
   "language": "python",
   "name": "python3"
  },
  "language_info": {
   "codemirror_mode": {
    "name": "ipython",
    "version": 3
   },
   "file_extension": ".py",
   "mimetype": "text/x-python",
   "name": "python",
   "nbconvert_exporter": "python",
   "pygments_lexer": "ipython3",
   "version": "3.5.1"
  }
 },
 "nbformat": 4,
 "nbformat_minor": 0
}
