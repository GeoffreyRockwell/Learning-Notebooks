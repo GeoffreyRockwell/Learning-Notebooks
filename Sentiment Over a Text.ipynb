{
 "cells": [
  {
   "cell_type": "markdown",
   "metadata": {},
   "source": [
    "# Graphing Sentiment\n",
    "\n",
    "This was inspired by the chapter on [Sentiment Analysis](https://bmw9t.gitbooks.io/introduction-to-text-analysis/content/sentiment-analysis/sentiment-analysis.html) in the [Introduction to Text Analysis](https://www.gitbook.com/book/bmw9t/introduction-to-text-analysis/details) by Brandon Walsh and Sarah Horowitz."
   ]
  },
  {
   "cell_type": "markdown",
   "metadata": {},
   "source": [
    "## Getting a Text\n",
    "\n",
    "We start by seeing what texts there are and getting it."
   ]
  },
  {
   "cell_type": "code",
   "execution_count": 1,
   "metadata": {
    "collapsed": false
   },
   "outputs": [
    {
     "name": "stdout",
     "output_type": "stream",
     "text": [
      "Basic CSV Handling.ipynb             Truths.Concordance.txt\r\n",
      "Concordances.ipynb                   Untitled.ipynb\r\n",
      "Counting Word Types.ipynb            Untitled1.ipynb\r\n",
      "ExampleTable.csv                     Untitled2.ipynb\r\n",
      "Hume Enquiry.txt                     Untitled3.ipynb\r\n",
      "Python language notes.ipynb          Using TextBlob.ipynb\r\n",
      "ScrapeResults.txt                    Web Scraping.ipynb\r\n",
      "ScrapeResults.xml                    Web Scraping.ipynb 2\r\n",
      "Sentiment Over a Text.ipynb          \u001b[31mcountdocsmatrix.ipynb\u001b[m\u001b[m*\r\n",
      "Teaching IPython to Humanists.ipynb  fortmactweets.may3-4.2016.txt\r\n",
      "Truth.Concordance.txt                theText.txt\r\n"
     ]
    }
   ],
   "source": [
    "ls"
   ]
  },
  {
   "cell_type": "code",
   "execution_count": 1,
   "metadata": {
    "collapsed": false
   },
   "outputs": [
    {
     "name": "stdout",
     "output_type": "stream",
     "text": [
      "This string has 366798 characters.\n",
      "The Project Gutenberg EBook of An Enquiry Concerni\n"
     ]
    }
   ],
   "source": [
    "theText2Use = \"Hume Enquiry.txt\"\n",
    "with open(theText2Use, \"r\") as fileToRead:\n",
    "    theString = fileToRead.read()\n",
    "    \n",
    "print(\"This string has\", len(theString), \"characters.\")\n",
    "print(theString[:50])"
   ]
  },
  {
   "cell_type": "markdown",
   "metadata": {},
   "source": [
    "## Tokenizing for sentences\n",
    "\n",
    "Now we tokenize on sentences (as opposed to words) and see how many there are."
   ]
  },
  {
   "cell_type": "code",
   "execution_count": 3,
   "metadata": {
    "collapsed": false
   },
   "outputs": [
    {
     "name": "stdout",
     "output_type": "stream",
     "text": [
      "2096\n"
     ]
    }
   ],
   "source": [
    "from textblob import TextBlob\n",
    "theTextB = TextBlob(theString)\n",
    "theSentsB = theTextB.sentences\n",
    "totalS = len(theSentsB)\n",
    "print(totalS)"
   ]
  },
  {
   "cell_type": "markdown",
   "metadata": {},
   "source": [
    "## Checking a sentence\n",
    "\n",
    "We can check a sentence or two to see if it worked."
   ]
  },
  {
   "cell_type": "code",
   "execution_count": 6,
   "metadata": {
    "collapsed": false
   },
   "outputs": [
    {
     "data": {
      "text/plain": [
       "Sentence(\"And shall we esteem it worthy the labour of a philosopher to\n",
       "give us a true system of the planets, and adjust the position and order\n",
       "of those remote bodies; while we affect to overlook those, who, with so\n",
       "much success, delineate the parts of the mind, in which we are so\n",
       "intimately concerned?\")"
      ]
     },
     "execution_count": 6,
     "metadata": {},
     "output_type": "execute_result"
    }
   ],
   "source": [
    "theSentsB[99]"
   ]
  },
  {
   "cell_type": "markdown",
   "metadata": {},
   "source": [
    "## Dividing into sections\n",
    "\n",
    "Now we divide the list of sentences into as many sections of sentences as you want. This will set what gets graphed. You can change the number of sections by changing the value of \"numOfSects\"."
   ]
  },
  {
   "cell_type": "code",
   "execution_count": 4,
   "metadata": {
    "collapsed": false
   },
   "outputs": [
    {
     "name": "stdout",
     "output_type": "stream",
     "text": [
      "104\n"
     ]
    }
   ],
   "source": [
    "import math\n",
    "\n",
    "numOfSects = 20\n",
    "sentsPerSect = totalS/numOfSects\n",
    "sentsPerSectInt = math.floor(sentsPerSect)\n",
    "print(sentsPerSectInt)"
   ]
  },
  {
   "cell_type": "markdown",
   "metadata": {},
   "source": [
    "## Sentiment analysis of each section\n",
    "\n",
    "For each section we go through the sentences and sum the polarity of each sentence. We are using TextBlob's sentiment analysis tool that gives us a value for each sentence as to how positive (or negative) it is."
   ]
  },
  {
   "cell_type": "code",
   "execution_count": 15,
   "metadata": {
    "collapsed": false
   },
   "outputs": [
    {
     "name": "stdout",
     "output_type": "stream",
     "text": [
      "[7.958172799422797, 7.108675015460731, 5.855381493506493, 5.186788281163282, 7.10031796906797, 6.487098498723499, 9.549639661925374, 7.739700492959421, 6.334841720779223, 2.942965539751253, 8.090270562770563, 9.123671635573423, 12.573383838383835, 14.280713834776341, 6.3360740053597215, 6.173683673469388, 7.081739409400122, 0.05366786807963275, 0.27129794818965947, 6.856801948051947]\n"
     ]
    }
   ],
   "source": [
    "listSectPoles = []\n",
    "\n",
    "for i in range(1,numOfSects + 1):\n",
    "    startS = i*sentsPerSectInt - sentsPerSectInt\n",
    "    stopS = i*sentsPerSectInt - 1\n",
    "    theTotalPole = 0\n",
    "    for sentence in theSentsB[startS:stopS]:\n",
    "        theTotalPole += sentence.sentiment.polarity\n",
    "        \n",
    "    listSectPoles.append(theTotalPole)\n",
    "    \n",
    "print(listSectPoles) "
   ]
  },
  {
   "cell_type": "code",
   "execution_count": 17,
   "metadata": {
    "collapsed": false
   },
   "outputs": [
    {
     "data": {
      "text/plain": [
       "20"
      ]
     },
     "execution_count": 17,
     "metadata": {},
     "output_type": "execute_result"
    }
   ],
   "source": [
    "len(listSectPoles)"
   ]
  },
  {
   "cell_type": "markdown",
   "metadata": {},
   "source": [
    "## Graphing sentiment over the text\n",
    "\n",
    "Finally, we graph the summed polarities for each section."
   ]
  },
  {
   "cell_type": "code",
   "execution_count": 16,
   "metadata": {
    "collapsed": false
   },
   "outputs": [
    {
     "data": {
      "text/plain": [
       "[<matplotlib.lines.Line2D at 0x1118f97b8>]"
      ]
     },
     "execution_count": 16,
     "metadata": {},
     "output_type": "execute_result"
    },
    {
     "data": {
      "image/png": "[encoded data removed]",
      "text/plain": [
       "<matplotlib.figure.Figure at 0x10dc2f7b8>"
      ]
     },
     "metadata": {},
     "output_type": "display_data"
    }
   ],
   "source": [
    "import matplotlib.pyplot as plt\n",
    "# make sure that graphs are embedded into our notebook output\n",
    "%matplotlib inline\n",
    "\n",
    "plt.plot(listSectPoles)"
   ]
  },
  {
   "cell_type": "markdown",
   "metadata": {
    "collapsed": true
   },
   "source": [
    "## Next Steps\n",
    "\n",
    "What can you do next?"
   ]
  },
  {
   "cell_type": "code",
   "execution_count": null,
   "metadata": {
    "collapsed": true
   },
   "outputs": [],
   "source": []
  }
 ],
 "metadata": {
  "kernelspec": {
   "display_name": "Python 3",
   "language": "python",
   "name": "python3"
  },
  "language_info": {
   "codemirror_mode": {
    "name": "ipython",
    "version": 3
   },
   "file_extension": ".py",
   "mimetype": "text/x-python",
   "name": "python",
   "nbconvert_exporter": "python",
   "pygments_lexer": "ipython3",
   "version": "3.5.1"
  }
 },
 "nbformat": 4,
 "nbformat_minor": 0
}
