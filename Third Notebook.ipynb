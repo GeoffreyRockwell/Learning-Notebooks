{
 "cells": [
  {
   "cell_type": "markdown",
   "metadata": {},
   "source": [
    "# Third IPython Class\n",
    "\n",
    "This notebook will look at the following:\n",
    "\n",
    "* Functions\n",
    "* For Loops\n",
    "* Boolean Expressions\n",
    "* Conditional Expressions\n",
    "* Opening and Closing Files"
   ]
  },
  {
   "cell_type": "markdown",
   "metadata": {},
   "source": [
    "## More on Lists\n",
    "\n",
    "Here are a few more operations on lists of use."
   ]
  },
  {
   "cell_type": "code",
   "execution_count": 2,
   "metadata": {
    "collapsed": false
   },
   "outputs": [
    {
     "data": {
      "text/plain": [
       "'the'"
      ]
     },
     "execution_count": 2,
     "metadata": {},
     "output_type": "execute_result"
    }
   ],
   "source": [
    "theList = [\"the\",\"rest\",\"of\",\"the\",\"words\"]\n",
    "theList[0]"
   ]
  },
  {
   "cell_type": "code",
   "execution_count": 3,
   "metadata": {
    "collapsed": false
   },
   "outputs": [
    {
     "data": {
      "text/plain": [
       "['rest', 'of']"
      ]
     },
     "execution_count": 3,
     "metadata": {},
     "output_type": "execute_result"
    }
   ],
   "source": [
    "theList[1:3]"
   ]
  },
  {
   "cell_type": "code",
   "execution_count": 4,
   "metadata": {
    "collapsed": false
   },
   "outputs": [
    {
     "data": {
      "text/plain": [
       "['the', 'rest', 'of', 'no', 'words']"
      ]
     },
     "execution_count": 4,
     "metadata": {},
     "output_type": "execute_result"
    }
   ],
   "source": [
    "theList[3] = \"no\"\n",
    "theList"
   ]
  },
  {
   "cell_type": "code",
   "execution_count": 9,
   "metadata": {
    "collapsed": false
   },
   "outputs": [
    {
     "data": {
      "text/plain": [
       "['the', 'rest', 'of', 'no', 'words', 'are', 'are', 'are']"
      ]
     },
     "execution_count": 9,
     "metadata": {},
     "output_type": "execute_result"
    }
   ],
   "source": [
    "theList.remove(\"banana\")\n",
    "theList"
   ]
  },
  {
   "cell_type": "markdown",
   "metadata": {},
   "source": [
    "## Functions\n",
    "\n",
    "You can define your own functions using `def ... :`. You have to name the function and supply parameters (arguments).\n",
    "```\n",
    "def NAME( PARAMETERS ):\n",
    "    STATEMENTS\n",
    "```"
   ]
  },
  {
   "cell_type": "code",
   "execution_count": 1,
   "metadata": {
    "collapsed": false
   },
   "outputs": [
    {
     "name": "stdout",
     "output_type": "stream",
     "text": [
      "Hello Geoffrey!\n"
     ]
    }
   ],
   "source": [
    "def myFunction(name):\n",
    "    print(\"Hello \" + name + \"!\")\n",
    "    \n",
    "myFunction(\"Geoffrey\")"
   ]
  },
  {
   "cell_type": "markdown",
   "metadata": {},
   "source": [
    "Here we can see how arguments can be named."
   ]
  },
  {
   "cell_type": "code",
   "execution_count": 7,
   "metadata": {
    "collapsed": false
   },
   "outputs": [
    {
     "name": "stdout",
     "output_type": "stream",
     "text": [
      "Geoffrey is 56 years old.\n"
     ]
    }
   ],
   "source": [
    "myAge = 56\n",
    "def myFunction2(name,age):\n",
    "    print(name + \" is \" + str(age) + \" years old.\")\n",
    "    \n",
    "myFunction2(age=myAge,name=\"Geoffrey\")"
   ]
  },
  {
   "cell_type": "code",
   "execution_count": 11,
   "metadata": {
    "collapsed": false
   },
   "outputs": [
    {
     "data": {
      "text/plain": [
       "16"
      ]
     },
     "execution_count": 11,
     "metadata": {},
     "output_type": "execute_result"
    }
   ],
   "source": [
    "test1 = \"my name is Geoff\"\n",
    "length = len(test1)\n",
    "print(length)"
   ]
  },
  {
   "cell_type": "markdown",
   "metadata": {},
   "source": [
    "## Loops\n",
    "Here is a simple loop. The \"name\" below is the loop variable and you can call it what you want. The rest is the loop body. The structure is:\n",
    "```\n",
    "for LOOP VARIABLE in LIST OR RANGE :\n",
    "    LOOP BODY\n",
    "```"
   ]
  },
  {
   "cell_type": "code",
   "execution_count": 15,
   "metadata": {
    "collapsed": false
   },
   "outputs": [
    {
     "name": "stdout",
     "output_type": "stream",
     "text": [
      "0\n",
      "1\n",
      "2\n",
      "3\n",
      "4\n",
      "5\n",
      "6\n",
      "7\n",
      "8\n",
      "9\n"
     ]
    }
   ],
   "source": [
    "for number in range(10):\n",
    "    print(number)"
   ]
  },
  {
   "cell_type": "markdown",
   "metadata": {},
   "source": [
    "Note how the counter starts at 0 and ends before the number given as the range."
   ]
  },
  {
   "cell_type": "markdown",
   "metadata": {},
   "source": [
    "Here is a loop over a list."
   ]
  },
  {
   "cell_type": "code",
   "execution_count": 16,
   "metadata": {
    "collapsed": false
   },
   "outputs": [
    {
     "name": "stdout",
     "output_type": "stream",
     "text": [
      "Hi Joe.  Please come to my party on Saturday!\n",
      "Hi Zoe.  Please come to my party on Saturday!\n",
      "Hi Brad.  Please come to my party on Saturday!\n",
      "Hi Angelina.  Please come to my party on Saturday!\n",
      "Hi Zuki.  Please come to my party on Saturday!\n",
      "Hi Thandi.  Please come to my party on Saturday!\n",
      "Hi Paris.  Please come to my party on Saturday!\n"
     ]
    }
   ],
   "source": [
    "for name in [\"Joe\",\"Zoe\",\"Brad\",\"Angelina\",\"Zuki\",\"Thandi\",\"Paris\"]:\n",
    "    invite = \"Hi \" + name + \".  Please come to my party on Saturday!\"\n",
    "    print(invite)"
   ]
  },
  {
   "cell_type": "markdown",
   "metadata": {},
   "source": [
    "Now we will combine a function with a For Loop. Note how we use a Fruitful Function that *returns* a value."
   ]
  },
  {
   "cell_type": "code",
   "execution_count": 17,
   "metadata": {
    "collapsed": false
   },
   "outputs": [
    {
     "name": "stdout",
     "output_type": "stream",
     "text": [
      "Hi Joe.  Please come to my party on Saturday!\n",
      "Hi Zoe.  Please come to my party on Saturday!\n",
      "Hi Brad.  Please come to my party on Saturday!\n",
      "Hi Angelina.  Please come to my party on Saturday!\n",
      "Hi Zuki.  Please come to my party on Saturday!\n",
      "Hi Thandi.  Please come to my party on Saturday!\n",
      "Hi Paris.  Please come to my party on Saturday!\n"
     ]
    }
   ],
   "source": [
    "def invite(nameOnInvite):\n",
    "    invitation = \"Hi \" + nameOnInvite + \".  Please come to my party on Saturday!\"\n",
    "    return invitation\n",
    "\n",
    "for name in [\"Joe\",\"Zoe\",\"Brad\",\"Angelina\",\"Zuki\",\"Thandi\",\"Paris\"]:\n",
    "    theInvitation = invite(nameOnInvite = name)\n",
    "    print(theInvitation)"
   ]
  },
  {
   "cell_type": "markdown",
   "metadata": {},
   "source": [
    "Here we will make it more efficient and call the function from with in the `print()` function. Functions can be nested in each other. "
   ]
  },
  {
   "cell_type": "code",
   "execution_count": 19,
   "metadata": {
    "collapsed": false
   },
   "outputs": [
    {
     "name": "stdout",
     "output_type": "stream",
     "text": [
      "Hi Joe.  Please come to my party on Saturday!\n",
      "Hi Zoe.  Please come to my party on Saturday!\n",
      "Hi Brad.  Please come to my party on Saturday!\n",
      "Hi Angelina.  Please come to my party on Saturday!\n",
      "Hi Zuki.  Please come to my party on Saturday!\n",
      "Hi Thandi.  Please come to my party on Saturday!\n",
      "Hi Paris.  Please come to my party on Saturday!\n"
     ]
    }
   ],
   "source": [
    "names2Invite = [\"Joe\",\"Zoe\",\"Brad\",\"Angelina\",\"Zuki\",\"Thandi\",\"Paris\"]\n",
    "\n",
    "def inviter(nameOnInvite):\n",
    "    return \"Hi \" + nameOnInvite + \".  Please come to my party on Saturday!\"\n",
    "\n",
    "for name in names2Invite:\n",
    "    print(inviter(name))\n",
    "\n"
   ]
  },
  {
   "cell_type": "code",
   "execution_count": 24,
   "metadata": {
    "collapsed": false
   },
   "outputs": [
    {
     "name": "stdout",
     "output_type": "stream",
     "text": [
      "['phrase', 'has', 'lots', 'of', 'different']\n",
      "['of', 'different', 'lots', 'words', 'like']\n"
     ]
    }
   ],
   "source": [
    "phraseTokens = [\"the\",\"phrase\",\"has\",\"lots\",\"of\",\"different\",\"lots\",\"words\",\"like\",\"the\"]\n",
    "\n",
    "end = len(phraseTokens)\n",
    "\n",
    "for loc in range(end):\n",
    "    if phraseTokens[loc] == \"lots\":\n",
    "        print(phraseTokens[loc-2:loc+3])\n",
    "    #print(phraseTokens[loc].capitalize())"
   ]
  },
  {
   "cell_type": "markdown",
   "metadata": {},
   "source": [
    "## Boolean Expressions\n",
    "\n",
    "Boolean values can be `True` or `False` (note the capitalization). This is a data type. We use them in expressions that test thing for `if ... then ... else` statements. When testing we use various operators like the `==` operator.\n",
    "\n",
    "Here are some examples of expressions:"
   ]
  },
  {
   "cell_type": "code",
   "execution_count": 26,
   "metadata": {
    "collapsed": false
   },
   "outputs": [
    {
     "data": {
      "text/plain": [
       "True"
      ]
     },
     "execution_count": 26,
     "metadata": {},
     "output_type": "execute_result"
    }
   ],
   "source": [
    "6 == 2 * 3"
   ]
  },
  {
   "cell_type": "code",
   "execution_count": 28,
   "metadata": {
    "collapsed": false
   },
   "outputs": [
    {
     "data": {
      "text/plain": [
       "True"
      ]
     },
     "execution_count": 28,
     "metadata": {},
     "output_type": "execute_result"
    }
   ],
   "source": [
    "\"Geoffrey\" == \"Geoff\" + \"rey\""
   ]
  },
  {
   "cell_type": "code",
   "execution_count": 17,
   "metadata": {
    "collapsed": false
   },
   "outputs": [
    {
     "data": {
      "text/plain": [
       "False"
      ]
     },
     "execution_count": 17,
     "metadata": {},
     "output_type": "execute_result"
    }
   ],
   "source": [
    "\"6\" == 2 * 3"
   ]
  },
  {
   "cell_type": "markdown",
   "metadata": {},
   "source": [
    "Why is this false?"
   ]
  },
  {
   "cell_type": "code",
   "execution_count": 18,
   "metadata": {
    "collapsed": false
   },
   "outputs": [
    {
     "data": {
      "text/plain": [
       "True"
      ]
     },
     "execution_count": 18,
     "metadata": {},
     "output_type": "execute_result"
    }
   ],
   "source": [
    "7 >= 6"
   ]
  },
  {
   "cell_type": "code",
   "execution_count": 19,
   "metadata": {
    "collapsed": false
   },
   "outputs": [
    {
     "data": {
      "text/plain": [
       "True"
      ]
     },
     "execution_count": 19,
     "metadata": {},
     "output_type": "execute_result"
    }
   ],
   "source": [
    "\"Geoffrey\" != \"Robert\""
   ]
  },
  {
   "cell_type": "markdown",
   "metadata": {},
   "source": [
    "## Conditional Statements\n",
    "\n",
    "We can use boolean expressions to test things and then have conditional execution. Here is the basic format:\n",
    "```\n",
    "if BOOLEAN EXPRESSION:\n",
    "    STATEMENTS_1        # Executed if condition evaluates to True\n",
    "else:\n",
    "    STATEMENTS_2        # Executed if condition evaluates to False \n",
    "```\n",
    "\n",
    "The simplest version omits the `else:` clause."
   ]
  },
  {
   "cell_type": "markdown",
   "metadata": {},
   "source": [
    "Here we test if the name has been properly lowercased."
   ]
  },
  {
   "cell_type": "code",
   "execution_count": 31,
   "metadata": {
    "collapsed": false
   },
   "outputs": [
    {
     "name": "stdout",
     "output_type": "stream",
     "text": [
      "right\n"
     ]
    }
   ],
   "source": [
    "if \"Geoffrey\".lower() == \"geoffrey\":\n",
    "    print(\"right\")\n",
    "else:\n",
    "    print(\"wrong\")"
   ]
  },
  {
   "cell_type": "markdown",
   "metadata": {},
   "source": [
    "Here we test if a name is in a list."
   ]
  },
  {
   "cell_type": "code",
   "execution_count": 20,
   "metadata": {
    "collapsed": false
   },
   "outputs": [
    {
     "name": "stdout",
     "output_type": "stream",
     "text": [
      "Hello Zoe!\n"
     ]
    }
   ],
   "source": [
    "names2Invite = [\"Joe\",\"Zoe\",\"Brad\",\"Angelina\",\"Zuki\",\"Thandi\",\"Paris\"]\n",
    "\n",
    "if \"Zoe\" in names2Invite:\n",
    "    print(\"Hello Zoe!\")"
   ]
  },
  {
   "cell_type": "markdown",
   "metadata": {},
   "source": [
    "Here we check for locations of a word in a list."
   ]
  },
  {
   "cell_type": "code",
   "execution_count": 32,
   "metadata": {
    "collapsed": false
   },
   "outputs": [
    {
     "name": "stdout",
     "output_type": "stream",
     "text": [
      "What word do you want? lots\n",
      "3: lots\n"
     ]
    }
   ],
   "source": [
    "phraseWords = [\"the\",\"phrase\",\"has\",\"lots\",\"of\",\"different\",\"words\",\"like\",\"the\"]\n",
    "\n",
    "end = len(phraseWords)\n",
    "\n",
    "theWordWeWant = input(\"What word do you want? \")\n",
    "\n",
    "for loc in range(end):\n",
    "    if phraseWords[loc] == theWordWeWant:\n",
    "        print(str(loc) + \": \" + phraseWords[loc])"
   ]
  },
  {
   "cell_type": "markdown",
   "metadata": {},
   "source": [
    "## Reading and Writing Files\n",
    "\n",
    "Here we see how to safely open and read from files. We start by seeing what files we can see."
   ]
  },
  {
   "cell_type": "code",
   "execution_count": 32,
   "metadata": {
    "collapsed": false
   },
   "outputs": [
    {
     "name": "stdout",
     "output_type": "stream",
     "text": [
      "Hume Enquiry.txt\r\n"
     ]
    }
   ],
   "source": [
    "%ls *.txt"
   ]
  },
  {
   "cell_type": "markdown",
   "metadata": {},
   "source": [
    "Here we read from the file and put it into a variable `theString` and then see what is in that."
   ]
  },
  {
   "cell_type": "code",
   "execution_count": null,
   "metadata": {
    "collapsed": true
   },
   "outputs": [],
   "source": [
    "theText2Use = \"Hume Enquiry.txt\"\n",
    "\n",
    "with open(theText2Use, \"r\") as fileToRead:\n",
    "    theString = fileToRead.read()\n",
    "    \n",
    "print(\"This string has\", len(theString), \"characters.\")\n",
    "print(theString[:50])"
   ]
  },
  {
   "cell_type": "markdown",
   "metadata": {},
   "source": [
    "Here we write out to a file."
   ]
  },
  {
   "cell_type": "code",
   "execution_count": 33,
   "metadata": {
    "collapsed": false
   },
   "outputs": [
    {
     "name": "stdout",
     "output_type": "stream",
     "text": [
      "Done\n"
     ]
    }
   ],
   "source": [
    "text2Write = '''Here is the test test to write.'''\n",
    "\n",
    "nameOfResults = \"Test.txt\"\n",
    "\n",
    "with open(nameOfResults, \"w\") as fileToWrite:\n",
    "    fileToWrite.write(text2Write)\n",
    "    \n",
    "print(\"Done\")"
   ]
  },
  {
   "cell_type": "code",
   "execution_count": 33,
   "metadata": {
    "collapsed": false
   },
   "outputs": [
    {
     "name": "stdout",
     "output_type": "stream",
     "text": [
      "Hume Enquiry.txt         Second Notebook.ipynb    Third Notebook.ipynb\r\n",
      "My First Notebook.ipynb  Test.txt\r\n"
     ]
    }
   ],
   "source": [
    "ls"
   ]
  },
  {
   "cell_type": "code",
   "execution_count": 34,
   "metadata": {
    "collapsed": false
   },
   "outputs": [
    {
     "name": "stdout",
     "output_type": "stream",
     "text": [
      "/Users/grockwel/Sync/Rockwell IPython Stuff/LearningNotebooks\n"
     ]
    }
   ],
   "source": [
    "cd .."
   ]
  },
  {
   "cell_type": "code",
   "execution_count": 35,
   "metadata": {
    "collapsed": false
   },
   "outputs": [
    {
     "name": "stdout",
     "output_type": "stream",
     "text": [
      "\u001b[34mLearningNotebooks\u001b[m\u001b[m/\r\n"
     ]
    }
   ],
   "source": [
    "ls"
   ]
  },
  {
   "cell_type": "code",
   "execution_count": 36,
   "metadata": {
    "collapsed": true
   },
   "outputs": [],
   "source": [
    "mkdir \"testdir\""
   ]
  },
  {
   "cell_type": "code",
   "execution_count": 37,
   "metadata": {
    "collapsed": false
   },
   "outputs": [
    {
     "name": "stdout",
     "output_type": "stream",
     "text": [
      "\u001b[34mLearningNotebooks\u001b[m\u001b[m/ \u001b[34mtestdir\u001b[m\u001b[m/\r\n"
     ]
    }
   ],
   "source": [
    "ls"
   ]
  },
  {
   "cell_type": "code",
   "execution_count": 38,
   "metadata": {
    "collapsed": true
   },
   "outputs": [],
   "source": [
    "import matplotlib"
   ]
  },
  {
   "cell_type": "code",
   "execution_count": null,
   "metadata": {
    "collapsed": true
   },
   "outputs": [],
   "source": []
  }
 ],
 "metadata": {
  "kernelspec": {
   "display_name": "Python 3",
   "language": "python",
   "name": "python3"
  },
  "language_info": {
   "codemirror_mode": {
    "name": "ipython",
    "version": 3
   },
   "file_extension": ".py",
   "mimetype": "text/x-python",
   "name": "python",
   "nbconvert_exporter": "python",
   "pygments_lexer": "ipython3",
   "version": "3.5.1"
  }
 },
 "nbformat": 4,
 "nbformat_minor": 0
}
