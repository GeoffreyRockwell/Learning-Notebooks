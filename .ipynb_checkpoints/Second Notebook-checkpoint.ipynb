{
 "cells": [
  {
   "cell_type": "markdown",
   "metadata": {},
   "source": [
    "# My Second Notebook\n",
    "\n",
    "This notebook builds on My First Notebook. Some of the things it covers:\n",
    "\n",
    "* Looking at the Collocates example\n",
    "* Opening files\n",
    "* Counting things\n",
    "* Tokenizing\n",
    "* Counting words\n",
    "* Finding words\n",
    "* Concording"
   ]
  },
  {
   "cell_type": "markdown",
   "metadata": {},
   "source": [
    "## More Strings"
   ]
  },
  {
   "cell_type": "code",
   "execution_count": null,
   "metadata": {
    "collapsed": true
   },
   "outputs": [],
   "source": [
    "text = '''\n",
    "This is a text with\n",
    "many lines.\n",
    "A line is represented as a \\n\n",
    "OK?\n",
    "'''"
   ]
  },
  {
   "cell_type": "markdown",
   "metadata": {},
   "source": [
    "## Tokenizing\n",
    "\n",
    "We discussed different ways of tokenizing. Here is a way using the .split() method. This splits a string on the spaces (or other characters if specified.) The limitation is that trailing punctuation ends up with the words. "
   ]
  },
  {
   "cell_type": "code",
   "execution_count": 1,
   "metadata": {
    "collapsed": true
   },
   "outputs": [],
   "source": [
    "theText = \"We have some delightful new food in the cafeteria. Awesome!!!\""
   ]
  },
  {
   "cell_type": "code",
   "execution_count": 6,
   "metadata": {
    "collapsed": false
   },
   "outputs": [],
   "source": [
    "theTokens = theText.split()"
   ]
  },
  {
   "cell_type": "code",
   "execution_count": 7,
   "metadata": {
    "collapsed": false
   },
   "outputs": [
    {
     "data": {
      "text/plain": [
       "['We',\n",
       " 'have',\n",
       " 'some',\n",
       " 'delightful',\n",
       " 'new',\n",
       " 'food',\n",
       " 'in',\n",
       " 'the',\n",
       " 'cafeteria.',\n",
       " 'Awesome!!!']"
      ]
     },
     "execution_count": 7,
     "metadata": {},
     "output_type": "execute_result"
    }
   ],
   "source": [
    "theTokens"
   ]
  },
  {
   "cell_type": "code",
   "execution_count": null,
   "metadata": {
    "collapsed": true
   },
   "outputs": [],
   "source": []
  }
 ],
 "metadata": {
  "kernelspec": {
   "display_name": "Python 3",
   "language": "python",
   "name": "python3"
  },
  "language_info": {
   "codemirror_mode": {
    "name": "ipython",
    "version": 3
   },
   "file_extension": ".py",
   "mimetype": "text/x-python",
   "name": "python",
   "nbconvert_exporter": "python",
   "pygments_lexer": "ipython3",
   "version": "3.5.1"
  }
 },
 "nbformat": 4,
 "nbformat_minor": 0
}
